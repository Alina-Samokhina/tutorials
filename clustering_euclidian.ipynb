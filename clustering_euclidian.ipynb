{
 "cells": [
  {
   "cell_type": "markdown",
   "metadata": {},
   "source": [
    "## Clustering with Logic Tensor Networks"
   ]
  },
  {
   "cell_type": "markdown",
   "metadata": {},
   "source": [
    "This is a basic example in which we use LTN for unsupervised clustering in a 2d space of real numbers. We define a theory that encodes the following facts\n",
    "* every point in the sample set should be assigned to a cluster\n",
    "* clusters should be to be disjoint\n",
    "* if two points are close (in terms of euclidian distance), they should belong to the same cluster\n",
    "\n",
    "We start generating normally distributed samples from $\\mathrm{nr\\_of\\_clusters}$ clusters. We use this to setup the theory and then optimize a loss function defined on the theory."
   ]
  },
  {
   "cell_type": "code",
   "execution_count": 1,
   "metadata": {},
   "outputs": [],
   "source": [
    "import logging; logging.basicConfig(level=logging.INFO)\n",
    "import tensorflow as tf\n",
    "import numpy as np\n",
    "import matplotlib.pyplot as plt\n",
    "import logictensornetworks_wrapper as ltnw\n",
    "ltnw.ltn.set_universal_aggreg(\"min\")\n",
    "ltnw.ltn.set_existential_aggregator(\"max\")\n",
    "ltnw.ltn.set_tnorm(\"prod\")\n",
    "ltnw.ltn.LAYERS = 4\n",
    "import logictensornetworks_library as ltnl"
   ]
  },
  {
   "cell_type": "markdown",
   "metadata": {},
   "source": [
    "Generate $\\mathrm{nr\\_of\\_points\\_x\\_cluster}$ samples for $\\mathrm{nr\\_of\\_clusters}$ clusters. Every sample is drawn from a normal distribution that is the underlying generator for each cluster. Samples from $\\mathbb{R}$^2"
   ]
  },
  {
   "cell_type": "code",
   "execution_count": 2,
   "metadata": {},
   "outputs": [],
   "source": [
    "nr_of_clusters = 2\n",
    "nr_of_points_x_cluster = 10\n",
    "cov = np.array([[.01,0],[0,.01]])\n",
    "\n",
    "clusters=[]\n",
    "for i in range(nr_of_clusters):\n",
    "    mean = np.random.uniform([-1,-1],[1,1],2).astype(np.float32)    \n",
    "    clusters.append(np.random.multivariate_normal(mean=mean,cov=cov,size=nr_of_points_x_cluster).astype(np.float32) )"
   ]
  },
  {
   "cell_type": "markdown",
   "metadata": {},
   "source": [
    "Every cluster is represented by a unary predicate $C_0,..C_{\\mathrm{nr\\_of\\_clusters}-1}$"
   ]
  },
  {
   "cell_type": "code",
   "execution_count": 3,
   "metadata": {},
   "outputs": [
    {
     "name": "stdout",
     "output_type": "stream",
     "text": [
      "C_0\n",
      "C_1\n"
     ]
    }
   ],
   "source": [
    "[ltnw.predicate(\"C_\"+str(i),2) for i in range(nr_of_clusters)]\n",
    "print(\"\\n\".join(ltnw.PREDICATES.keys()))"
   ]
  },
  {
   "cell_type": "markdown",
   "metadata": {},
   "source": [
    "We define the theory using a number of variables. First, we define two variables $x,y$ that encompass the complete sample set."
   ]
  },
  {
   "cell_type": "code",
   "execution_count": 4,
   "metadata": {},
   "outputs": [],
   "source": [
    "data  = np.concatenate(clusters)\n",
    "ltnw.variable(\"?x\",data);\n",
    "ltnw.variable(\"?y\",data);"
   ]
  },
  {
   "cell_type": "markdown",
   "metadata": {},
   "source": [
    "We define a function close takes an exponential envelope of the euclidian distance of two vectors. It is something like a euclidian similarity."
   ]
  },
  {
   "cell_type": "code",
   "execution_count": 5,
   "metadata": {},
   "outputs": [],
   "source": [
    "ltnw.predicate(\"close\",2,ltnl.equal_euclidian);\n"
   ]
  },
  {
   "cell_type": "markdown",
   "metadata": {},
   "source": [
    "Next we can define the theory."
   ]
  },
  {
   "cell_type": "code",
   "execution_count": 6,
   "metadata": {},
   "outputs": [
    {
     "name": "stdout",
     "output_type": "stream",
     "text": [
      "exists ?x: C_0(?x)\n",
      "exists ?x: C_1(?x)\n",
      "forall ?x,?y: (C_0(?x) & close(?x,?y)) -> C_0(?y)\n",
      "forall ?x,?y: (C_0(?x) & ~close(?x,?y)) -> (C_1(?y))\n",
      "forall ?x,?y: (C_1(?x) & close(?x,?y)) -> C_1(?y)\n",
      "forall ?x,?y: (C_1(?x) & ~close(?x,?y)) -> (C_0(?y))\n",
      "forall ?x: C_0(?x)|C_1(?x)\n",
      "forall ?x: ~(C_0(?x) & C_1(?x))\n"
     ]
    }
   ],
   "source": [
    "ltnw.formula(\"forall ?x: %s\" % \"|\".join([\"C_%s(?x)\" % i for i in range(nr_of_clusters)]))\n",
    "for i in range(nr_of_clusters):\n",
    "    ltnw.formula(\"exists ?x: C_%s(?x)\" % i)\n",
    "    ltnw.formula(\"forall ?x,?y: (C_%s(?x) & close(?x,?y)) -> C_%s(?y)\" % (i,i))\n",
    "    ltnw.formula(\"forall ?x,?y: (C_%s(?x) & ~close(?x,?y)) -> (%s)\" % (i,\"|\".join([\"C_%s(?y)\" % j for j in range(nr_of_clusters) if i!=j])))\n",
    "    \n",
    "    for j in range(i+1,nr_of_clusters):\n",
    "        ltnw.formula(\"forall ?x: ~(C_%s(?x) & C_%s(?x))\" % (i,j))\n",
    "print(\"\\n\".join(sorted(ltnw.FORMULAS.keys())))\n"
   ]
  },
  {
   "cell_type": "markdown",
   "metadata": {},
   "source": [
    "Initialize the knowledgebase and optimize. Notice that $\\mathrm{close}$ is not a very crisp predicate. Therefore reaching high sat levels is basically impossible. Hence, we never really reach sat levels near $1.0$."
   ]
  },
  {
   "cell_type": "code",
   "execution_count": 7,
   "metadata": {},
   "outputs": [
    {
     "name": "stderr",
     "output_type": "stream",
     "text": [
      "INFO:logictensornetworks_wrapper:Initializing knowledgebase\n",
      "INFO:logictensornetworks_wrapper:Initializing optimizer\n",
      "INFO:logictensornetworks_wrapper:Assembling feed dict\n",
      "INFO:logictensornetworks_wrapper:Initializing Tensorflow session\n",
      "INFO:logictensornetworks_wrapper:INITIALIZE 0 sat level -----> 0.363523\n",
      "INFO:logictensornetworks_wrapper:INITIALIZE 100 sat level -----> 0.3091358\n",
      "INFO:logictensornetworks_wrapper:INITIALIZE 200 sat level -----> 0.32270405\n",
      "INFO:logictensornetworks_wrapper:INITIALIZE 300 sat level -----> 0.3772639\n",
      "INFO:logictensornetworks_wrapper:INITIALIZE 400 sat level -----> 0.33410543\n",
      "INFO:logictensornetworks_wrapper:INITIALIZE 500 sat level -----> 0.38742435\n",
      "INFO:logictensornetworks_wrapper:INITIALIZE 600 sat level -----> 0.29886198\n",
      "INFO:logictensornetworks_wrapper:INITIALIZE 700 sat level -----> 0.398494\n",
      "INFO:logictensornetworks_wrapper:INITIALIZE 800 sat level -----> 0.3814879\n",
      "INFO:logictensornetworks_wrapper:INITIALIZE 900 sat level -----> 0.3727727\n",
      "INFO:logictensornetworks_wrapper:INITIALIZE 1000 sat level -----> 0.35612884\n",
      "INFO:logictensornetworks_wrapper:INITIALIZE 1100 sat level -----> 0.3807249\n",
      "INFO:logictensornetworks_wrapper:INITIALIZE 1200 sat level -----> 0.27027297\n",
      "INFO:logictensornetworks_wrapper:INITIALIZE 1300 sat level -----> 0.26156205\n",
      "INFO:logictensornetworks_wrapper:INITIALIZE 1400 sat level -----> 0.32240784\n",
      "INFO:logictensornetworks_wrapper:INITIALIZE 1500 sat level -----> 0.30317536\n",
      "INFO:logictensornetworks_wrapper:INITIALIZE 1600 sat level -----> 0.33925372\n",
      "INFO:logictensornetworks_wrapper:INITIALIZE 1700 sat level -----> 0.3273215\n",
      "INFO:logictensornetworks_wrapper:INITIALIZE 1800 sat level -----> 0.37358508\n",
      "INFO:logictensornetworks_wrapper:INITIALIZE 1900 sat level -----> 0.3319716\n",
      "INFO:logictensornetworks_wrapper:INITIALIZE 2000 sat level -----> 0.28136653\n",
      "INFO:logictensornetworks_wrapper:INITIALIZE 2100 sat level -----> 0.37253392\n",
      "INFO:logictensornetworks_wrapper:INITIALIZE 2200 sat level -----> 0.36086696\n",
      "INFO:logictensornetworks_wrapper:INITIALIZE 2300 sat level -----> 0.22812042\n",
      "INFO:logictensornetworks_wrapper:INITIALIZE 2400 sat level -----> 0.4108121\n",
      "INFO:logictensornetworks_wrapper:INITIALIZE 2500 sat level -----> 0.39096797\n",
      "INFO:logictensornetworks_wrapper:INITIALIZE 2600 sat level -----> 0.25051048\n",
      "INFO:logictensornetworks_wrapper:INITIALIZE 2700 sat level -----> 0.27274734\n",
      "INFO:logictensornetworks_wrapper:INITIALIZE 2800 sat level -----> 0.37283114\n",
      "INFO:logictensornetworks_wrapper:INITIALIZE 2900 sat level -----> 0.31695807\n",
      "INFO:logictensornetworks_wrapper:INITIALIZE 3000 sat level -----> 0.32314962\n",
      "INFO:logictensornetworks_wrapper:INITIALIZE 3100 sat level -----> 0.37171376\n",
      "INFO:logictensornetworks_wrapper:INITIALIZE 3200 sat level -----> 0.35511646\n",
      "INFO:logictensornetworks_wrapper:INITIALIZE 3300 sat level -----> 0.36357468\n",
      "INFO:logictensornetworks_wrapper:INITIALIZE 3400 sat level -----> 0.33891016\n",
      "INFO:logictensornetworks_wrapper:INITIALIZE 3500 sat level -----> 0.33662754\n",
      "INFO:logictensornetworks_wrapper:INITIALIZE 3600 sat level -----> 0.35392323\n",
      "INFO:logictensornetworks_wrapper:INITIALIZE 3700 sat level -----> 0.30496234\n",
      "INFO:logictensornetworks_wrapper:INITIALIZE 3800 sat level -----> 0.34556067\n",
      "INFO:logictensornetworks_wrapper:INITIALIZE 3900 sat level -----> 0.39252573\n",
      "INFO:logictensornetworks_wrapper:INITIALIZE 4000 sat level -----> 0.3855916\n",
      "INFO:logictensornetworks_wrapper:INITIALIZE 4100 sat level -----> 0.34180564\n",
      "INFO:logictensornetworks_wrapper:INITIALIZE 4200 sat level -----> 0.381311\n",
      "INFO:logictensornetworks_wrapper:INITIALIZE 4300 sat level -----> 0.29947278\n",
      "INFO:logictensornetworks_wrapper:INITIALIZE 4400 sat level -----> 0.272552\n",
      "INFO:logictensornetworks_wrapper:INITIALIZE 4500 sat level -----> 0.36345124\n",
      "INFO:logictensornetworks_wrapper:INITIALIZE 4600 sat level -----> 0.32913786\n",
      "INFO:logictensornetworks_wrapper:INITIALIZE 4700 sat level -----> 0.33284256\n",
      "INFO:logictensornetworks_wrapper:INITIALIZE 4800 sat level -----> 0.34370714\n",
      "INFO:logictensornetworks_wrapper:INITIALIZE 4900 sat level -----> 0.3638758\n",
      "INFO:logictensornetworks_wrapper:INITIALIZE 5000 sat level -----> 0.33228806\n",
      "INFO:logictensornetworks_wrapper:INITIALIZE 5100 sat level -----> 0.32294917\n",
      "INFO:logictensornetworks_wrapper:INITIALIZE 5200 sat level -----> 0.25875455\n",
      "INFO:logictensornetworks_wrapper:INITIALIZE 5300 sat level -----> 0.347897\n",
      "INFO:logictensornetworks_wrapper:INITIALIZE 5400 sat level -----> 0.32984424\n",
      "INFO:logictensornetworks_wrapper:INITIALIZE 5500 sat level -----> 0.3526727\n",
      "INFO:logictensornetworks_wrapper:INITIALIZE 5600 sat level -----> 0.3002056\n",
      "INFO:logictensornetworks_wrapper:INITIALIZE 5700 sat level -----> 0.3880509\n",
      "INFO:logictensornetworks_wrapper:INITIALIZE 5800 sat level -----> 0.33527055\n",
      "INFO:logictensornetworks_wrapper:INITIALIZE 5900 sat level -----> 0.34009674\n",
      "INFO:logictensornetworks_wrapper:INITIALIZE 6000 sat level -----> 0.36143076\n",
      "INFO:logictensornetworks_wrapper:INITIALIZE 6100 sat level -----> 0.40129897\n",
      "INFO:logictensornetworks_wrapper:INITIALIZE 6200 sat level -----> 0.22891921\n",
      "INFO:logictensornetworks_wrapper:INITIALIZE 6300 sat level -----> 0.37964007\n",
      "INFO:logictensornetworks_wrapper:INITIALIZE 6400 sat level -----> 0.30953264\n",
      "INFO:logictensornetworks_wrapper:INITIALIZE 6500 sat level -----> 0.3401934\n",
      "INFO:logictensornetworks_wrapper:INITIALIZE 6600 sat level -----> 0.21921965\n",
      "INFO:logictensornetworks_wrapper:INITIALIZE 6700 sat level -----> 0.2868752\n",
      "INFO:logictensornetworks_wrapper:INITIALIZE 6800 sat level -----> 0.2535162\n",
      "INFO:logictensornetworks_wrapper:INITIALIZE 6900 sat level -----> 0.36529925\n",
      "INFO:logictensornetworks_wrapper:INITIALIZE 7000 sat level -----> 0.34201396\n",
      "INFO:logictensornetworks_wrapper:INITIALIZE 7100 sat level -----> 0.39794433\n",
      "INFO:logictensornetworks_wrapper:INITIALIZE 7200 sat level -----> 0.3162644\n",
      "INFO:logictensornetworks_wrapper:INITIALIZE 7300 sat level -----> 0.26286775\n",
      "INFO:logictensornetworks_wrapper:INITIALIZE 7400 sat level -----> 0.31499988\n",
      "INFO:logictensornetworks_wrapper:INITIALIZE 7500 sat level -----> 0.35566556\n",
      "INFO:logictensornetworks_wrapper:INITIALIZE 7600 sat level -----> 0.26498568\n",
      "INFO:logictensornetworks_wrapper:INITIALIZE 7700 sat level -----> 0.40655658\n",
      "INFO:logictensornetworks_wrapper:INITIALIZE 7800 sat level -----> 0.34139934\n",
      "INFO:logictensornetworks_wrapper:INITIALIZE 7900 sat level -----> 0.38462627\n",
      "INFO:logictensornetworks_wrapper:INITIALIZE 8000 sat level -----> 0.3190562\n",
      "INFO:logictensornetworks_wrapper:INITIALIZE 8100 sat level -----> 0.35146782\n",
      "INFO:logictensornetworks_wrapper:INITIALIZE 8200 sat level -----> 0.3380041\n",
      "INFO:logictensornetworks_wrapper:INITIALIZE 8300 sat level -----> 0.33471352\n",
      "INFO:logictensornetworks_wrapper:INITIALIZE 8400 sat level -----> 0.33681312\n",
      "INFO:logictensornetworks_wrapper:INITIALIZE 8500 sat level -----> 0.37022278\n",
      "INFO:logictensornetworks_wrapper:INITIALIZE 8600 sat level -----> 0.28663328\n",
      "INFO:logictensornetworks_wrapper:INITIALIZE 8700 sat level -----> 0.24353738\n",
      "INFO:logictensornetworks_wrapper:INITIALIZE 8800 sat level -----> 0.22119573\n",
      "INFO:logictensornetworks_wrapper:INITIALIZE 8900 sat level -----> 0.34674373\n",
      "INFO:logictensornetworks_wrapper:INITIALIZE 9000 sat level -----> 0.37737733\n",
      "INFO:logictensornetworks_wrapper:INITIALIZE 9100 sat level -----> 0.30630738\n",
      "INFO:logictensornetworks_wrapper:INITIALIZE 9200 sat level -----> 0.30509093\n",
      "INFO:logictensornetworks_wrapper:INITIALIZE 9300 sat level -----> 0.31575078\n",
      "INFO:logictensornetworks_wrapper:INITIALIZE 9400 sat level -----> 0.3386203\n",
      "INFO:logictensornetworks_wrapper:INITIALIZE 9500 sat level -----> 0.26324284\n",
      "INFO:logictensornetworks_wrapper:INITIALIZE 9600 sat level -----> 0.2594921\n",
      "INFO:logictensornetworks_wrapper:INITIALIZE 9700 sat level -----> 0.32011795\n",
      "INFO:logictensornetworks_wrapper:INITIALIZE 9800 sat level -----> 0.27518708\n",
      "INFO:logictensornetworks_wrapper:INITIALIZE 9900 sat level -----> 0.29202068\n",
      "INFO:logictensornetworks_wrapper:INITIALIZED with sat level = 0.31410497\n",
      "INFO:logictensornetworks_wrapper:TRAINING 0 sat level -----> 0.31410497\n",
      "INFO:logictensornetworks_wrapper:TRAINING 100 sat level -----> 0.3851713\n",
      "INFO:logictensornetworks_wrapper:TRAINING 200 sat level -----> 0.46050596\n"
     ]
    },
    {
     "name": "stderr",
     "output_type": "stream",
     "text": [
      "INFO:logictensornetworks_wrapper:TRAINING 300 sat level -----> 0.49676895\n",
      "INFO:logictensornetworks_wrapper:TRAINING 400 sat level -----> 0.49974754\n",
      "INFO:logictensornetworks_wrapper:TRAINING 500 sat level -----> 0.49997318\n",
      "INFO:logictensornetworks_wrapper:TRAINING 600 sat level -----> 0.4999939\n",
      "INFO:logictensornetworks_wrapper:TRAINING 700 sat level -----> 0.49999696\n",
      "INFO:logictensornetworks_wrapper:TRAINING 800 sat level -----> 0.49999797\n",
      "INFO:logictensornetworks_wrapper:TRAINING 900 sat level -----> 0.49999848\n"
     ]
    },
    {
     "data": {
      "text/plain": [
       "0.4999988"
      ]
     },
     "execution_count": 7,
     "metadata": {},
     "output_type": "execute_result"
    }
   ],
   "source": [
    "ltnw.initialize_knowledgebase(optimizer=tf.train.RMSPropOptimizer(learning_rate=0.01,decay=.9),\n",
    "                              initial_sat_level_threshold=.5)\n",
    "\n",
    "ltnw.train(max_epochs=1000);"
   ]
  },
  {
   "cell_type": "markdown",
   "metadata": {},
   "source": [
    "Visualize results"
   ]
  },
  {
   "cell_type": "code",
   "execution_count": 10,
   "metadata": {},
   "outputs": [
    {
     "data": {
      "image/png": "[encoded data removed]",
      "text/plain": [
       "<Figure size 648x432 with 5 Axes>"
      ]
     },
     "metadata": {},
     "output_type": "display_data"
    }
   ],
   "source": [
    "prC = [ltnw.ask(\"C_%s(?x)\" % i) for i in range(nr_of_clusters)]\n",
    "n = 2\n",
    "m = (nr_of_clusters + 1) // n + 1\n",
    "\n",
    "fig = plt.figure(figsize=(3 * 3, m * 3))\n",
    "\n",
    "fig.add_subplot(m, n, 1)\n",
    "plt.title(\"groundtruth\")\n",
    "for c in clusters:\n",
    "    plt.scatter(c[:, 0], c[:, 1])\n",
    "data=np.concatenate(clusters)\n",
    "x0 = data[:, 0]\n",
    "x1 = data[:, 1]\n",
    "for i in range(nr_of_clusters):\n",
    "    fig.add_subplot(m, n, i + 2)\n",
    "    plt.title(\"C\" + str(i) + \"(x)\")\n",
    "    plt.scatter(x0, x1, c=prC[i].T[0])\n",
    "    plt.scatter(x0[:2], x1[:2], s=0, c=[0, 1])\n",
    "    plt.colorbar()\n",
    "plt.show()"
   ]
  },
  {
   "cell_type": "code",
   "execution_count": null,
   "metadata": {},
   "outputs": [],
   "source": []
  }
 ],
 "metadata": {
  "kernelspec": {
   "display_name": "Python 3",
   "language": "python",
   "name": "python3"
  },
  "language_info": {
   "codemirror_mode": {
    "name": "ipython",
    "version": 3
   },
   "file_extension": ".py",
   "mimetype": "text/x-python",
   "name": "python",
   "nbconvert_exporter": "python",
   "pygments_lexer": "ipython3",
   "version": "3.6.6"
  }
 },
 "nbformat": 4,
 "nbformat_minor": 2
}
