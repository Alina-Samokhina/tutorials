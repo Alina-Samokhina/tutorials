{
 "cells": [
  {
   "cell_type": "markdown",
   "metadata": {},
   "source": [
    "## Regression with Logic Tensor Networks"
   ]
  },
  {
   "cell_type": "markdown",
   "metadata": {},
   "source": [
    "This is a basic example in which we use LTN for training a regression estimator. The essence of regression is to approximate a function $f(x)=y$. We are given examples of this function $x_i,y_i$ with $f(x_i)=y_i$. From the examples, we need to estimate a function $f^*$ that approximates $f$. In LTN we can directly model this by defining $f^*$ as a learnable/trainable function with some parameters that are constrained through data. Additionally we need a notion of $=$. Here we use a Euclidian distance/similarity to get a smooth $=$ function. We define the following language and theory\n",
    "* a set of points $x_i$ and $y_i$\n",
    "* a definition of equality, modeled as a smooth similarity function $\\mathrm{eq}(x,y)=\\exp\\big(-\\sqrt{\\sum_j (x_j-y_j)^2}\\big)$,\n",
    "* a learnable function $f^*$ for which the following constraints hold $\\mathrm{eq}(f^*(x_i),y_i)$. The function $f^*$  approximates $f(x_i)=y_i$\n",
    "* here, $f^*$ is modeled using a linear function with $f^*(x)=Wx+b$\n"
   ]
  },
  {
   "cell_type": "code",
   "execution_count": 1,
   "metadata": {},
   "outputs": [],
   "source": [
    "import logging; logging.basicConfig(level=logging.INFO)\n",
    "import tensorflow as tf\n",
    "import numpy as np\n",
    "import matplotlib.pyplot as plt\n",
    "\n",
    "import logictensornetworks_wrapper as ltnw\n",
    "import logictensornetworks_library as ltnl\n",
    "\n",
    "start=-1\n",
    "end=1\n",
    "training_size=10\n",
    "testing_size=10\n",
    "learning_rate = 0.01\n",
    "slope=1.\n",
    "var=0.1\n",
    "epochs=1000\n"
   ]
  },
  {
   "cell_type": "markdown",
   "metadata": {},
   "source": [
    "Define the regressor $f^*$."
   ]
  },
  {
   "cell_type": "code",
   "execution_count": 2,
   "metadata": {},
   "outputs": [],
   "source": [
    "W = tf.Variable(np.random.randn(), name=\"weight\")\n",
    "b = tf.Variable(np.random.randn(), name=\"bias\")\n",
    "f=ltnw.function(\"f\",1,1,fun_definition=lambda x: tf.add(tf.multiply(x, W), b));"
   ]
  },
  {
   "cell_type": "markdown",
   "metadata": {},
   "source": [
    "We define the theory using a number of constants -- the training points (Notice there are other ways of achieving this using variables)"
   ]
  },
  {
   "cell_type": "markdown",
   "metadata": {},
   "source": [
    "We define an $\\mathrm{eq}$ function that defines equality $\\mathrm{eq}(x,y)=\\exp\\big(-\\sqrt{\\sum_{i=j}^m(x_j-y_j)^2}\\big)$ with $m$ being the dimensionality of the domain (here $2$). This function is equal to $1.$ iff $x,y$ are equal and approaches zero the further $x,y$ are in terms of Euclidian distance"
   ]
  },
  {
   "cell_type": "code",
   "execution_count": 3,
   "metadata": {},
   "outputs": [],
   "source": [
    "ltnw.predicate(\"eq\",2,lambda x,y: tf.exp(-tf.sqrt(tf.reduce_sum(tf.square(tf.subtract(x,y)),1,keepdims=True))));"
   ]
  },
  {
   "cell_type": "markdown",
   "metadata": {},
   "source": [
    "Now let's define the data and theory. First, we generate training points $x_i,y_i$."
   ]
  },
  {
   "cell_type": "code",
   "execution_count": 4,
   "metadata": {},
   "outputs": [
    {
     "name": "stdout",
     "output_type": "stream",
     "text": [
      "constants defined: x_0,x_1,x_2,x_3,x_4,x_5,x_6,x_7,x_8,x_9,y_0,y_1,y_2,y_3,y_4,y_5,y_6,y_7,y_8,y_9\n"
     ]
    }
   ],
   "source": [
    "train_X = np.random.uniform(start,end,(training_size)).astype(\"float32\")\n",
    "train_Y = slope*train_X + np.random.normal(scale=var,size=len(train_X))\n",
    "[ltnw.constant(\"x_%s\" % i,[x]) for i,x in enumerate(train_X)]\n",
    "[ltnw.constant(\"y_%s\" % i,[y]) for i,y in enumerate(train_Y)]\n",
    "print(\"constants defined: %s\" % \",\".join(sorted(ltnw.CONSTANTS.keys())))"
   ]
  },
  {
   "cell_type": "markdown",
   "metadata": {},
   "source": [
    "Next we can define the theory."
   ]
  },
  {
   "cell_type": "code",
   "execution_count": 5,
   "metadata": {},
   "outputs": [
    {
     "name": "stdout",
     "output_type": "stream",
     "text": [
      "eq(f(x_0),y_0)\n",
      "eq(f(x_1),y_1)\n",
      "eq(f(x_2),y_2)\n",
      "eq(f(x_3),y_3)\n",
      "eq(f(x_4),y_4)\n",
      "eq(f(x_5),y_5)\n",
      "eq(f(x_6),y_6)\n",
      "eq(f(x_7),y_7)\n",
      "eq(f(x_8),y_8)\n",
      "eq(f(x_9),y_9)\n"
     ]
    }
   ],
   "source": [
    "for f in [\"eq(f(x_%s),y_%s)\" % (i,i) for i in range(len(train_X))]:\n",
    "    ltnw.axiom(f)\n",
    "print(\"\\n\".join(sorted(ltnw.AXIOMS.keys())))"
   ]
  },
  {
   "cell_type": "markdown",
   "metadata": {},
   "source": [
    "Initialize the knowledgebase and optimize"
   ]
  },
  {
   "cell_type": "code",
   "execution_count": 6,
   "metadata": {},
   "outputs": [
    {
     "name": "stderr",
     "output_type": "stream",
     "text": [
      "INFO:logictensornetworks_wrapper:Initializing knowledgebase\n",
      "INFO:logictensornetworks_wrapper:Initializing Tensorflow session\n",
      "INFO:logictensornetworks_wrapper:Initializing optimizer\n",
      "INFO:logictensornetworks_wrapper:Assembling feed dict\n",
      "INFO:logictensornetworks_wrapper:INITIALIZED with sat level = 0.59680563\n",
      "INFO:logictensornetworks_wrapper:TRAINING 0 sat level -----> 0.59680563\n",
      "INFO:logictensornetworks_wrapper:TRAINING 100 sat level -----> 0.61859906\n",
      "INFO:logictensornetworks_wrapper:TRAINING 200 sat level -----> 0.6327243\n",
      "INFO:logictensornetworks_wrapper:TRAINING 300 sat level -----> 0.6466054\n",
      "INFO:logictensornetworks_wrapper:TRAINING 400 sat level -----> 0.6630436\n",
      "INFO:logictensornetworks_wrapper:TRAINING 500 sat level -----> 0.6826374\n",
      "INFO:logictensornetworks_wrapper:TRAINING 600 sat level -----> 0.7069012\n",
      "INFO:logictensornetworks_wrapper:TRAINING 700 sat level -----> 0.73780245\n",
      "INFO:logictensornetworks_wrapper:TRAINING 800 sat level -----> 0.77878636\n",
      "INFO:logictensornetworks_wrapper:TRAINING 900 sat level -----> 0.83688223\n",
      "INFO:logictensornetworks_wrapper:TRAINING finished after 999 epochs with sat level 0.9169443\n"
     ]
    },
    {
     "data": {
      "text/plain": [
       "0.9169443"
      ]
     },
     "execution_count": 6,
     "metadata": {},
     "output_type": "execute_result"
    }
   ],
   "source": [
    "ltnw.initialize_knowledgebase(optimizer=tf.train.GradientDescentOptimizer(learning_rate=learning_rate))\n",
    "ltnw.train(max_epochs=epochs)"
   ]
  },
  {
   "cell_type": "markdown",
   "metadata": {},
   "source": [
    "Given that the model is trained we can now check any points in the domain and their mapping in $f$. Here we check the value of $f(2.0)$"
   ]
  },
  {
   "cell_type": "code",
   "execution_count": 7,
   "metadata": {},
   "outputs": [
    {
     "data": {
      "text/plain": [
       "array([1.6106209], dtype=float32)"
      ]
     },
     "execution_count": 7,
     "metadata": {},
     "output_type": "execute_result"
    }
   ],
   "source": [
    "ltnw.constant(\"t\",[2.])\n",
    "ltnw.ask(\"f(t)\")"
   ]
  },
  {
   "cell_type": "markdown",
   "metadata": {},
   "source": [
    "Visualize results training data"
   ]
  },
  {
   "cell_type": "code",
   "execution_count": 8,
   "metadata": {},
   "outputs": [
    {
     "data": {
      "text/plain": [
       "<matplotlib.legend.Legend at 0x11d03b240>"
      ]
     },
     "execution_count": 8,
     "metadata": {},
     "output_type": "execute_result"
    },
    {
     "data": {
      "image/png": "[encoded data removed]",
      "text/plain": [
       "<Figure size 432x288 with 1 Axes>"
      ]
     },
     "metadata": {},
     "output_type": "display_data"
    }
   ],
   "source": [
    "# visualize results on training data\n",
    "ltnw.variable(\"?x\",1)\n",
    "prediction=ltnw.ask(\"f(?x)\",feed_dict={\"?x\" : train_X.reshape(len(train_X),1)})\n",
    "plt.figure()\n",
    "plt.plot(train_X, train_Y, 'bo', label='Training data',color=\"black\")\n",
    "plt.plot(train_X, ltnw.SESSION.run(W) * train_X + ltnw.SESSION.run(b), label='Fitted line')\n",
    "plt.plot(train_X, prediction, 'bo', label='prediction',color=\"red\")\n",
    "plt.legend()\n"
   ]
  },
  {
   "cell_type": "markdown",
   "metadata": {},
   "source": [
    "Generate test data and visualize results"
   ]
  },
  {
   "cell_type": "code",
   "execution_count": 9,
   "metadata": {},
   "outputs": [
    {
     "data": {
      "image/png": "[encoded data removed]",
      "text/plain": [
       "<Figure size 432x288 with 1 Axes>"
      ]
     },
     "metadata": {},
     "output_type": "display_data"
    }
   ],
   "source": [
    "test_X = np.random.uniform(start,end,(testing_size)).astype(\"float32\")\n",
    "prediction=ltnw.ask(\"f(?x)\",feed_dict={\"?x\" : test_X.reshape(len(test_X),1)})\n",
    "test_Y = slope*test_X + np.random.normal(scale=var,size=len(test_X))\n",
    "plt.figure()\n",
    "plt.plot(test_X, test_Y, 'bo', label='Testing data')\n",
    "plt.plot(test_X, prediction, 'bo', label='prediction',color=\"red\")\n",
    "plt.plot(test_X, ltnw.SESSION.run(W) * test_X + ltnw.SESSION.run(b), label='Fitted line')\n",
    "plt.legend()\n",
    "plt.show()"
   ]
  },
  {
   "cell_type": "code",
   "execution_count": null,
   "metadata": {},
   "outputs": [],
   "source": []
  }
 ],
 "metadata": {
  "kernelspec": {
   "display_name": "Python 3",
   "language": "python",
   "name": "python3"
  },
  "language_info": {
   "codemirror_mode": {
    "name": "ipython",
    "version": 3
   },
   "file_extension": ".py",
   "mimetype": "text/x-python",
   "name": "python",
   "nbconvert_exporter": "python",
   "pygments_lexer": "ipython3",
   "version": "3.6.6"
  }
 },
 "nbformat": 4,
 "nbformat_minor": 2
}
