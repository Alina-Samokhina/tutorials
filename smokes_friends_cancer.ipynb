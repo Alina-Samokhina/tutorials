{
 "cells": [
  {
   "cell_type": "markdown",
   "metadata": {},
   "source": [
    "## Smokes/Friends/Cancer with Logic Tensor Networks"
   ]
  },
  {
   "cell_type": "markdown",
   "metadata": {},
   "source": [
    "This is a classic example from relational learning implemented in LTN and grounded in a domain $\\mathbb{R}^n$."
   ]
  },
  {
   "cell_type": "code",
   "execution_count": 3,
   "metadata": {},
   "outputs": [],
   "source": [
    "import logging;logging.basicConfig(level=logging.INFO)\n",
    "import tensorflow as tf\n",
    "import logictensornetworks as ltn\n",
    "import logictensornetworks_wrapper as ltnw"
   ]
  },
  {
   "cell_type": "markdown",
   "metadata": {},
   "source": [
    "Some initial settings. Includes the dimensionality of the embedding/grounding space"
   ]
  },
  {
   "cell_type": "code",
   "execution_count": 22,
   "metadata": {},
   "outputs": [],
   "source": [
    "ltn.LAYERS = 4\n",
    "ltn.BIAS_factor = 1e-3\n",
    "\n",
    "max_epochs=1000\n",
    "embedding_size = 10 # embedding space dimensionality"
   ]
  },
  {
   "cell_type": "markdown",
   "metadata": {},
   "source": [
    "We use three predicates. Two unary predicates and one binary predicate"
   ]
  },
  {
   "cell_type": "code",
   "execution_count": 23,
   "metadata": {},
   "outputs": [
    {
     "name": "stderr",
     "output_type": "stream",
     "text": [
      "WARNING:logictensornetworks_wrapper:Redeclaring existing predicate Smokes\n",
      "WARNING:logictensornetworks_wrapper:Redeclaring existing predicate Friends\n",
      "WARNING:logictensornetworks_wrapper:Redeclaring existing predicate Cancer\n"
     ]
    }
   ],
   "source": [
    "ltnw.predicate('Smokes',embedding_size);\n",
    "ltnw.predicate('Friends',embedding_size*2);\n",
    "ltnw.predicate('Cancer',embedding_size);"
   ]
  },
  {
   "cell_type": "markdown",
   "metadata": {},
   "source": [
    "Generate constants a to n"
   ]
  },
  {
   "cell_type": "code",
   "execution_count": 9,
   "metadata": {},
   "outputs": [
    {
     "name": "stderr",
     "output_type": "stream",
     "text": [
      "WARNING:logictensornetworks_wrapper:Redeclaring existing constant a\n",
      "WARNING:logictensornetworks_wrapper:Redeclaring existing constant b\n",
      "WARNING:logictensornetworks_wrapper:Redeclaring existing constant c\n",
      "WARNING:logictensornetworks_wrapper:Redeclaring existing constant d\n",
      "WARNING:logictensornetworks_wrapper:Redeclaring existing constant e\n",
      "WARNING:logictensornetworks_wrapper:Redeclaring existing constant f\n",
      "WARNING:logictensornetworks_wrapper:Redeclaring existing constant g\n",
      "WARNING:logictensornetworks_wrapper:Redeclaring existing constant h\n",
      "WARNING:logictensornetworks_wrapper:Redeclaring existing constant i\n",
      "WARNING:logictensornetworks_wrapper:Redeclaring existing constant j\n",
      "WARNING:logictensornetworks_wrapper:Redeclaring existing constant k\n",
      "WARNING:logictensornetworks_wrapper:Redeclaring existing constant l\n",
      "WARNING:logictensornetworks_wrapper:Redeclaring existing constant m\n",
      "WARNING:logictensornetworks_wrapper:Redeclaring existing constant n\n"
     ]
    }
   ],
   "source": [
    "g1,g2='abcdefgh','ijklmn'\n",
    "g=g1+g2\n",
    "for l in g:\n",
    "    ltnw.constant(l,min_value=[0.]*embedding_size,max_value=[1.]*embedding_size)"
   ]
  },
  {
   "cell_type": "markdown",
   "metadata": {},
   "source": [
    "First we define the facts known about the world, i.e. who we know is friends, smokes and has cancer"
   ]
  },
  {
   "cell_type": "code",
   "execution_count": 11,
   "metadata": {},
   "outputs": [
    {
     "name": "stdout",
     "output_type": "stream",
     "text": [
      "Cancer(a)\n",
      "Cancer(e)\n",
      "Friends(a,b)\n",
      "Friends(a,e)\n",
      "Friends(a,f)\n",
      "Friends(a,g)\n",
      "Friends(b,c)\n",
      "Friends(c,d)\n",
      "Friends(e,f)\n",
      "Friends(g,h)\n",
      "Friends(i,j)\n",
      "Friends(j,m)\n",
      "Friends(k,l)\n",
      "Friends(m,n)\n",
      "Smokes(a)\n",
      "Smokes(e)\n",
      "Smokes(f)\n",
      "Smokes(g)\n",
      "Smokes(j)\n",
      "Smokes(n)\n",
      "~Cancer(b)\n",
      "~Cancer(c)\n",
      "~Cancer(d)\n",
      "~Cancer(f)\n",
      "~Cancer(g)\n",
      "~Cancer(h)\n",
      "~Cancer(i)\n",
      "~Cancer(j)\n",
      "~Cancer(k)\n",
      "~Cancer(l)\n",
      "~Cancer(m)\n",
      "~Cancer(n)\n",
      "~Friends(a,c)\n",
      "~Friends(a,d)\n",
      "~Friends(a,h)\n",
      "~Friends(b,d)\n",
      "~Friends(b,e)\n",
      "~Friends(b,f)\n",
      "~Friends(b,g)\n",
      "~Friends(b,h)\n",
      "~Friends(c,e)\n",
      "~Friends(c,f)\n",
      "~Friends(c,g)\n",
      "~Friends(c,h)\n",
      "~Friends(d,e)\n",
      "~Friends(d,f)\n",
      "~Friends(d,g)\n",
      "~Friends(d,h)\n",
      "~Friends(e,g)\n",
      "~Friends(e,h)\n",
      "~Friends(f,g)\n",
      "~Friends(f,h)\n",
      "~Friends(i,k)\n",
      "~Friends(i,l)\n",
      "~Friends(i,m)\n",
      "~Friends(i,n)\n",
      "~Friends(j,k)\n",
      "~Friends(j,l)\n",
      "~Friends(j,n)\n",
      "~Friends(k,m)\n",
      "~Friends(k,n)\n",
      "~Friends(l,m)\n",
      "~Friends(l,n)\n",
      "~Smokes(b)\n",
      "~Smokes(c)\n",
      "~Smokes(d)\n",
      "~Smokes(h)\n",
      "~Smokes(i)\n",
      "~Smokes(k)\n",
      "~Smokes(l)\n",
      "~Smokes(m)\n"
     ]
    }
   ],
   "source": [
    "friends = [('a','b'),('a','e'),('a','f'),('a','g'),('b','c'),('c','d'),('e','f'),('g','h'),\n",
    "           ('i','j'),('j','m'),('k','l'),('m','n')]\n",
    "[ltnw.formula(\"Friends(%s,%s)\" %(x,y)) for (x,y) in friends]\n",
    "[ltnw.formula(\"~Friends(%s,%s)\" %(x,y)) for x in g1 for y in g1 if (x,y) not in friends and x < y]\n",
    "[ltnw.formula(\"~Friends(%s,%s)\" %(x,y)) for x in g2 for y in g2 if (x,y) not in friends and x < y]\n",
    "\n",
    "smokes = ['a','e','f','g','j','n']\n",
    "[ltnw.formula(\"Smokes(%s)\" % x) for x in smokes]\n",
    "[ltnw.formula(\"~Smokes(%s)\" % x) for x in g if x not in smokes]\n",
    "\n",
    "cancer = ['a','e']\n",
    "[ltnw.formula(\"Cancer(%s)\" % x) for x in cancer]\n",
    "[ltnw.formula(\"~Cancer(%s)\" % x) for x in g if x not in cancer]\n",
    "\n",
    "print(\"\\n\".join(sorted(ltnw.FORMULAS.keys())))"
   ]
  },
  {
   "cell_type": "markdown",
   "metadata": {},
   "source": [
    "Then we add knowledge that we know holds for each constant/individual. For this we use two variables, that go over the all samples"
   ]
  },
  {
   "cell_type": "markdown",
   "metadata": {},
   "source": [
    "ltnw.variable(\"p\",tf.concat(list(ltnw.CONSTANTS.values()),axis=0))\n",
    "ltnw.variable(\"q\",tf.concat(list(ltnw.CONSTANTS.values()),axis=0))\n",
    "\n",
    "ltnw.formula(\"forall p: ~Friends(p,p)\")\n",
    "ltnw.formula(\"forall p,q:Friends(p,q) -> Friends(q,p)\")\n",
    "ltnw.formula(\"forall p: exists q: Friends(p,q)\")\n",
    "ltnw.formula(\"forall p,q:Friends(p,q) -> (Smokes(p)->Smokes(q))\")\n",
    "ltnw.formula(\"forall p: Smokes(p) -> Cancer(p)\")\n",
    "print(\"\\n\".join(sorted(filter(lambda x: x.startswith(\"forall\"), ltnw.FORMULAS.keys()))))"
   ]
  },
  {
   "cell_type": "markdown",
   "metadata": {},
   "source": [
    "Initialize the knowledgebase and optimize"
   ]
  },
  {
   "cell_type": "code",
   "execution_count": 18,
   "metadata": {},
   "outputs": [
    {
     "name": "stderr",
     "output_type": "stream",
     "text": [
      "INFO:logictensornetworks_wrapper:Initializing knowledgebase\n",
      "INFO:logictensornetworks_wrapper:Initializing optimizer\n",
      "INFO:logictensornetworks_wrapper:Assembling feed dict\n",
      "INFO:logictensornetworks_wrapper:Initializing Tensorflow session\n",
      "INFO:logictensornetworks_wrapper:INITIALIZED with sat level = 0.4856998\n",
      "INFO:logictensornetworks_wrapper:TRAINING 0 sat level -----> 0.4856998\n",
      "INFO:logictensornetworks_wrapper:TRAINING finished after 999 epochs with sat level 0.95505595\n"
     ]
    }
   ],
   "source": [
    "optimizer=tf.train.RMSPropOptimizer(learning_rate=.01,decay=.9)\n",
    "formula_aggregator=lambda *x: tf.reduce_mean(tf.concat(x,axis=0))+ltn.BIAS\n",
    "ltnw.initialize_knowledgebase(initial_sat_level_threshold=.1,optimizer=optimizer,formula_aggregator=formula_aggregator)\n",
    "ltnw.train(track_sat_levels=1000,sat_level_epsilon=.99,max_epochs=max_epochs);"
   ]
  },
  {
   "cell_type": "code",
   "execution_count": null,
   "metadata": {},
   "outputs": [],
   "source": [
    "Check some formulas"
   ]
  },
  {
   "cell_type": "code",
   "execution_count": 20,
   "metadata": {},
   "outputs": [
    {
     "name": "stdout",
     "output_type": "stream",
     "text": [
      "a  =  [-0.12019304 -0.29417938  0.4367437   1.1439954   0.68295485  0.02202765\n",
      "  0.05832971 -0.26626703  0.8555932   1.6106366 ]\n",
      "Cancer(a): 1.00\n",
      "Smokes(a): 1.00\n",
      "Friends(a,a): 0.00\n",
      "Friends(a,b): 1.00\n",
      "Friends(a,c): 0.00\n",
      "Friends(a,d): 0.00\n",
      "Friends(a,e): 1.00\n",
      "Friends(a,f): 1.00\n",
      "Friends(a,g): 0.95\n",
      "Friends(a,h): 0.00\n",
      "Friends(a,i): 0.95\n",
      "Friends(a,j): 1.00\n",
      "Friends(a,k): 1.00\n",
      "Friends(a,l): 0.95\n",
      "Friends(a,m): 0.00\n",
      "Friends(a,n): 1.00\n",
      "b  =  [-0.4005215   0.83488595 -0.28701967  1.3484085  -0.65651083  0.74934745\n",
      "  1.4064897   0.53272015  0.5980132   0.27026483]\n",
      "Cancer(b): 0.00\n",
      "Smokes(b): 0.00\n",
      "Friends(b,a): 0.99\n",
      "Friends(b,b): 0.00\n",
      "Friends(b,c): 1.00\n",
      "Friends(b,d): 0.00\n",
      "Friends(b,e): 0.00\n",
      "Friends(b,f): 0.00\n",
      "Friends(b,g): 0.00\n",
      "Friends(b,h): 0.00\n",
      "Friends(b,i): 0.92\n",
      "Friends(b,j): 0.95\n",
      "Friends(b,k): 0.00\n",
      "Friends(b,l): 0.00\n",
      "Friends(b,m): 1.00\n",
      "Friends(b,n): 0.00\n",
      "c  =  [ 1.5567048  -0.5668615   0.24863623  0.5336552   0.5450335   0.83997875\n",
      "  0.2084002   0.59342045  0.8495948   0.5454229 ]\n",
      "Cancer(c): 0.00\n",
      "Smokes(c): 0.00\n",
      "Friends(c,a): 0.00\n",
      "Friends(c,b): 0.92\n",
      "Friends(c,c): 0.00\n",
      "Friends(c,d): 0.00\n",
      "Friends(c,e): 0.00\n",
      "Friends(c,f): 0.00\n",
      "Friends(c,g): 0.00\n",
      "Friends(c,h): 0.00\n",
      "Friends(c,i): 0.00\n",
      "Friends(c,j): 1.00\n",
      "Friends(c,k): 0.00\n",
      "Friends(c,l): 0.00\n",
      "Friends(c,m): 0.00\n",
      "Friends(c,n): 0.00\n",
      "d  =  [ 0.53825855 -0.6523471   0.6442642   0.95418227  0.59529614  1.030986\n",
      "  0.5411652   1.0790213   0.81354964 -0.5182786 ]\n",
      "Cancer(d): 0.00\n",
      "Smokes(d): 0.00\n",
      "Friends(d,a): 0.00\n",
      "Friends(d,b): 0.00\n",
      "Friends(d,c): 0.00\n",
      "Friends(d,d): 0.00\n",
      "Friends(d,e): 0.00\n",
      "Friends(d,f): 0.00\n",
      "Friends(d,g): 0.00\n",
      "Friends(d,h): 0.00\n",
      "Friends(d,i): 0.00\n",
      "Friends(d,j): 0.95\n",
      "Friends(d,k): 0.00\n",
      "Friends(d,l): 0.00\n",
      "Friends(d,m): 0.00\n",
      "Friends(d,n): 0.00\n",
      "e  =  [-0.03774106  0.09226327  0.7375923   0.29554614  1.4341053   0.71716046\n",
      "  1.0131092   0.6949306   0.04129969  0.6388085 ]\n",
      "Cancer(e): 1.00\n",
      "Smokes(e): 1.00\n",
      "Friends(e,a): 0.99\n",
      "Friends(e,b): 0.00\n",
      "Friends(e,c): 0.00\n",
      "Friends(e,d): 0.00\n",
      "Friends(e,e): 0.00\n",
      "Friends(e,f): 0.95\n",
      "Friends(e,g): 0.00\n",
      "Friends(e,h): 0.00\n",
      "Friends(e,i): 0.00\n",
      "Friends(e,j): 0.95\n",
      "Friends(e,k): 0.00\n",
      "Friends(e,l): 0.00\n",
      "Friends(e,m): 0.00\n",
      "Friends(e,n): 0.00\n",
      "f  =  [ 0.8284131   0.69501513  0.42975003  0.44853544  1.3527274   1.3406979\n",
      "  1.099576   -0.08966901  0.5299147   0.02853072]\n",
      "Cancer(f): 0.00\n",
      "Smokes(f): 1.00\n",
      "Friends(f,a): 0.99\n",
      "Friends(f,b): 0.00\n",
      "Friends(f,c): 0.00\n",
      "Friends(f,d): 0.00\n",
      "Friends(f,e): 0.00\n",
      "Friends(f,f): 0.00\n",
      "Friends(f,g): 0.00\n",
      "Friends(f,h): 0.00\n",
      "Friends(f,i): 0.00\n",
      "Friends(f,j): 0.00\n",
      "Friends(f,k): 0.00\n",
      "Friends(f,l): 0.00\n",
      "Friends(f,m): 0.00\n",
      "Friends(f,n): 0.00\n",
      "g  =  [ 0.86713314  0.50366205  1.4462894  -0.64181995  0.620012   -0.6200822\n",
      "  1.0220697  -0.20458493  1.3061029  -0.2766848 ]\n",
      "Cancer(g): 0.00\n",
      "Smokes(g): 1.00\n",
      "Friends(g,a): 1.00\n",
      "Friends(g,b): 0.92\n",
      "Friends(g,c): 0.00\n",
      "Friends(g,d): 0.00\n",
      "Friends(g,e): 0.00\n",
      "Friends(g,f): 0.00\n",
      "Friends(g,g): 0.00\n",
      "Friends(g,h): 1.00\n",
      "Friends(g,i): 0.00\n",
      "Friends(g,j): 0.95\n",
      "Friends(g,k): 0.00\n",
      "Friends(g,l): 0.00\n",
      "Friends(g,m): 0.00\n",
      "Friends(g,n): 0.00\n",
      "h  =  [-5.1452580e-04  3.2176507e-01  8.2920206e-01  5.6369430e-01\n",
      " -9.2096508e-01  9.3367201e-01  6.5992022e-01 -2.2839621e-01\n",
      "  7.5669712e-01  7.6492560e-01]\n",
      "Cancer(h): 0.00\n",
      "Smokes(h): 0.00\n",
      "Friends(h,a): 0.00\n",
      "Friends(h,b): 0.00\n",
      "Friends(h,c): 0.00\n",
      "Friends(h,d): 0.00\n",
      "Friends(h,e): 0.00\n",
      "Friends(h,f): 0.00\n",
      "Friends(h,g): 0.95\n",
      "Friends(h,h): 0.00\n",
      "Friends(h,i): 0.00\n",
      "Friends(h,j): 1.00\n",
      "Friends(h,k): 0.00\n",
      "Friends(h,l): 0.00\n",
      "Friends(h,m): 0.00\n",
      "Friends(h,n): 0.00\n",
      "i  =  [ 1.3075167   0.34233403  0.24163194  0.5962717   0.83319145  0.14117375\n",
      "  0.3743045   0.5967659   0.991726   -0.09747846]\n",
      "Cancer(i): 0.00\n",
      "Smokes(i): 0.00\n",
      "Friends(i,a): 0.99\n",
      "Friends(i,b): 0.92\n",
      "Friends(i,c): 0.00\n",
      "Friends(i,d): 0.00\n",
      "Friends(i,e): 0.00\n",
      "Friends(i,f): 0.00\n",
      "Friends(i,g): 0.00\n",
      "Friends(i,h): 0.00\n",
      "Friends(i,i): 0.00\n",
      "Friends(i,j): 1.00\n",
      "Friends(i,k): 0.00\n",
      "Friends(i,l): 0.00\n",
      "Friends(i,m): 0.00\n",
      "Friends(i,n): 0.00\n",
      "j  =  [ 0.9394993   1.5466517   1.0591725   0.97997916  1.1767874   0.6190414\n",
      "  0.9606004   0.1138705  -0.18032512  0.59620863]\n",
      "Cancer(j): 0.00\n",
      "Smokes(j): 1.00\n",
      "Friends(j,a): 0.99\n",
      "Friends(j,b): 0.99\n",
      "Friends(j,c): 0.99\n",
      "Friends(j,d): 0.99\n",
      "Friends(j,e): 0.99\n",
      "Friends(j,f): 0.00\n",
      "Friends(j,g): 0.00\n",
      "Friends(j,h): 0.99\n",
      "Friends(j,i): 0.99\n",
      "Friends(j,j): 0.00\n",
      "Friends(j,k): 0.00\n",
      "Friends(j,l): 0.00\n",
      "Friends(j,m): 0.99\n",
      "Friends(j,n): 0.00\n",
      "k  =  [ 1.2894046   1.1754905   0.55490494  0.4502691   0.89185995  0.5250065\n",
      "  0.20902342  1.5873995   1.0052333  -0.45315376]\n",
      "Cancer(k): 0.00\n",
      "Smokes(k): 0.00\n",
      "Friends(k,a): 0.99\n",
      "Friends(k,b): 0.00\n",
      "Friends(k,c): 0.00\n",
      "Friends(k,d): 0.00\n",
      "Friends(k,e): 0.00\n",
      "Friends(k,f): 0.00\n",
      "Friends(k,g): 0.00\n",
      "Friends(k,h): 0.00\n",
      "Friends(k,i): 0.00\n",
      "Friends(k,j): 0.00\n",
      "Friends(k,k): 0.00\n",
      "Friends(k,l): 0.92\n",
      "Friends(k,m): 0.00\n",
      "Friends(k,n): 0.00\n",
      "l  =  [ 1.3770113   1.1659129  -0.17937516  0.15487641 -0.04831913  0.4417806\n",
      "  1.1845939  -0.01480727  1.4478667  -0.12636489]\n",
      "Cancer(l): 0.00\n",
      "Smokes(l): 0.00\n",
      "Friends(l,a): 0.99\n",
      "Friends(l,b): 0.00\n",
      "Friends(l,c): 0.00\n",
      "Friends(l,d): 0.00\n",
      "Friends(l,e): 0.00\n",
      "Friends(l,f): 0.00\n",
      "Friends(l,g): 0.00\n",
      "Friends(l,h): 0.00\n",
      "Friends(l,i): 0.00\n",
      "Friends(l,j): 0.00\n",
      "Friends(l,k): 0.00\n",
      "Friends(l,l): 0.00\n",
      "Friends(l,m): 0.00\n",
      "Friends(l,n): 0.00\n",
      "m  =  [ 1.5328318  -0.30779883  0.24934916  0.20631865  0.41283435 -0.16471034\n",
      "  0.03893232  0.5739148   0.08215126  0.43916678]\n",
      "Cancer(m): 0.00\n",
      "Smokes(m): 0.00\n",
      "Friends(m,a): 0.00\n",
      "Friends(m,b): 1.00\n",
      "Friends(m,c): 0.00\n",
      "Friends(m,d): 0.00\n",
      "Friends(m,e): 0.00\n",
      "Friends(m,f): 0.00\n",
      "Friends(m,g): 0.00\n",
      "Friends(m,h): 0.00\n",
      "Friends(m,i): 0.00\n",
      "Friends(m,j): 1.00\n",
      "Friends(m,k): 0.00\n",
      "Friends(m,l): 0.00\n",
      "Friends(m,m): 0.00\n",
      "Friends(m,n): 0.01\n",
      "n  =  [ 0.61029774  0.923718    0.8202328  -0.4098443   0.06842774  1.7403345\n",
      "  1.3056244   0.4921858   0.37467363  0.02557387]\n",
      "Cancer(n): 0.00\n",
      "Smokes(n): 1.00\n",
      "Friends(n,a): 0.99\n",
      "Friends(n,b): 0.00\n",
      "Friends(n,c): 0.00\n",
      "Friends(n,d): 0.00\n",
      "Friends(n,e): 0.00\n",
      "Friends(n,f): 0.00\n",
      "Friends(n,g): 0.00\n",
      "Friends(n,h): 0.00\n",
      "Friends(n,i): 0.00\n",
      "Friends(n,j): 0.00\n",
      "Friends(n,k): 0.00\n",
      "Friends(n,l): 0.00\n",
      "Friends(n,m): 0.00\n",
      "Friends(n,n): 0.00\n"
     ]
    }
   ],
   "source": [
    "for x in g:\n",
    "    print(x,\" = \",ltnw.ask(x).squeeze())\n",
    "    print(\"Cancer(\"+x+\"): %.2f\" % ltnw.ask(\"Cancer(%s)\" % x).squeeze())\n",
    "    print(\"Smokes(\"+x+\"): %.2f\" % ltnw.ask(\"Smokes(%s)\" % x).squeeze())\n",
    "\n",
    "    for y in g:\n",
    "        print(\"Friends(\"+x+\",\"+y+\"): %.2f\" % ltnw.ask(\"Friends(%s,%s)\" % (x,y)).squeeze())\n"
   ]
  },
  {
   "cell_type": "markdown",
   "metadata": {},
   "source": [
    "Check some general axioms"
   ]
  },
  {
   "cell_type": "code",
   "execution_count": 21,
   "metadata": {},
   "outputs": [
    {
     "name": "stdout",
     "output_type": "stream",
     "text": [
      "forall p: ~Friends(p,p) : 1.00\n",
      "forall p,q: Friends(p,q) -> Friends(q,p) : 0.76\n",
      "forall p: exists q: Friends(p,q) : 0.99\n",
      "forall p,q: Friends(p,q) -> (Smokes(p)->Smokes(q)) : 0.00\n"
     ]
    }
   ],
   "source": [
    "for formula in [\"forall p: ~Friends(p,p)\",\n",
    "                \"forall p,q: Friends(p,q) -> Friends(q,p)\",\n",
    "                \"forall p: exists q: Friends(p,q)\",\n",
    "                \"forall p,q: Friends(p,q) -> (Smokes(p)->Smokes(q))\"]:\n",
    "    print(formula,\": %.2f\" % ltnw.ask(formula).squeeze())"
   ]
  },
  {
   "cell_type": "code",
   "execution_count": null,
   "metadata": {},
   "outputs": [],
   "source": []
  }
 ],
 "metadata": {
  "kernelspec": {
   "display_name": "Python 3",
   "language": "python",
   "name": "python3"
  },
  "language_info": {
   "codemirror_mode": {
    "name": "ipython",
    "version": 3
   },
   "file_extension": ".py",
   "mimetype": "text/x-python",
   "name": "python",
   "nbconvert_exporter": "python",
   "pygments_lexer": "ipython3",
   "version": "3.6.6"
  }
 },
 "nbformat": 4,
 "nbformat_minor": 2
}
